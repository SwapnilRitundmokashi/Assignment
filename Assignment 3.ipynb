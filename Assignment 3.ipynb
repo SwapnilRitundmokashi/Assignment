{
 "cells": [
  {
   "cell_type": "code",
   "execution_count": null,
   "id": "9407afbd",
   "metadata": {},
   "outputs": [],
   "source": [
    "Why are functions advantageous to have in your programs?\n",
    "\n",
    "\n",
    "Ans: 1.Functions allow you to define a block of code that can be reused multiple times within a program. \n",
    "    2.Functions facilitate modular programming by breaking down a complex program into smaller, manageable modules.\n",
    "    3.Functions enhance code readability by dividing the program into smaller, self-contained units that perform \n",
    "    specific tasks. Well-named functions with clear functionality make the code more understandable for\n",
    "    yourself and other developers. This improves the maintainability of the codebase.\n"
   ]
  },
  {
   "cell_type": "code",
   "execution_count": null,
   "id": "9b129869",
   "metadata": {},
   "outputs": [],
   "source": [
    "When does the code in a function run: when its specified or when its called?\n",
    "    \n",
    "    The code in a function runs when it is called , not when it is specified."
   ]
  },
  {
   "cell_type": "code",
   "execution_count": null,
   "id": "6ff05154",
   "metadata": {},
   "outputs": [],
   "source": [
    "What statement creates a function?\n",
    "\n",
    "In Python, the def statement is used to create a function."
   ]
  },
  {
   "cell_type": "code",
   "execution_count": null,
   "id": "ed8c601f",
   "metadata": {},
   "outputs": [],
   "source": [
    "What is the difference between a function and a function call?\n",
    "\n",
    "Function: A function is a block of reusable code that performs a specific task or a set of related operations.\n",
    "    It is defined with a name, optional parameters, and a code block that contains the instructions to be \n",
    "    executed when the function is called. Functions are created to encapsulate and modularize code, making \n",
    "    it reusable and promoting code organization.\n",
    "\n",
    "Function Call: A function call, also known as invoking a function, is the action of executing the code within \n",
    "    a function at a specific point in a program. When a function is called, the program flow transfers to the\n",
    "    functions code block, and the instructions within the function are executed sequentially. "
   ]
  },
  {
   "cell_type": "code",
   "execution_count": null,
   "id": "b356c7d9",
   "metadata": {},
   "outputs": [],
   "source": [
    "How many global scopes are there in a Python program? How many local scopes?\n",
    "\n",
    "Global Scopes: A global scope is the outermost scope in a Python program. It is created when the program\n",
    "    starts and remains active throughout the programs execution. Variables defined in the global scope are \n",
    "    accessible from anywhere within the program, including within functions and other scopes. In a Python\n",
    "    program, there is typically one global scope, which holds variables and objects that are defined \n",
    "    outside of any function.\n",
    "    \n",
    "Local Scopes: Local scopes are created whenever a function block is executed. Each function or code\n",
    "    block has its own local scope, which contains variables defined within that function. Local variables\n",
    "    are only accessible within the scope in which they are defined and are typically destroyed when the scope is exited. \n",
    "    In a Python program, the number of local scopes depends on how many functions or code blocks are executed."
   ]
  },
  {
   "cell_type": "code",
   "execution_count": null,
   "id": "3efe716c",
   "metadata": {},
   "outputs": [],
   "source": [
    "What is the concept of a return value? Is it possible to have a return value in an expression?\n",
    "\n",
    "The return value allows the calling code to utilize the result of the functions execution,\n",
    "whether it is for further processing, display and any other purpose.\n",
    "\n",
    "Yes, it is possible to have a return value in an expression. "
   ]
  },
  {
   "cell_type": "code",
   "execution_count": null,
   "id": "86aaa60c",
   "metadata": {},
   "outputs": [],
   "source": [
    "If a function does not have a return statement, what is the return value of a call to that function?\n",
    "\n",
    "if a function does not have a return statement, it implicitly returns\n",
    "a special value called None"
   ]
  },
  {
   "cell_type": "code",
   "execution_count": null,
   "id": "6bcefcef",
   "metadata": {},
   "outputs": [],
   "source": [
    "How do you make a function variable refer to the global variable?\n",
    "\n",
    "The global keyword allows you to access and modify global variables within the scope of a function. "
   ]
  },
  {
   "cell_type": "code",
   "execution_count": null,
   "id": "89e291dd",
   "metadata": {},
   "outputs": [],
   "source": [
    "What is the data type of None?\n",
    "\n",
    "The type() function returns the data type of an object, and in the case of None, it will display class 'NoneType'"
   ]
  },
  {
   "cell_type": "code",
   "execution_count": null,
   "id": "316e82cf",
   "metadata": {},
   "outputs": [],
   "source": [
    "What does the sentence import areallyourpetsnamederic do?\n",
    "\n",
    "When you use the import statement in Python, you typically specify the name of a module that\n",
    "you want to import. The module can be either a built-in module, a module from the\n",
    "Python Standard Library that you or someone else has created.\n",
    "\n",
    "The sentence \"import areallyourpetsnamederic\" is not recognized Python import statement."
   ]
  },
  {
   "cell_type": "code",
   "execution_count": null,
   "id": "b4f69650",
   "metadata": {},
   "outputs": [],
   "source": [
    "If you had a bacon() feature in a spam module, what would you call it after importing spam?\n",
    "\n",
    "import spam\n",
    "\n",
    "spam.bacon()"
   ]
  },
  {
   "cell_type": "code",
   "execution_count": null,
   "id": "079d57ab",
   "metadata": {},
   "outputs": [],
   "source": [
    " What can you do to save a programme from crashing if it encounters an error?\n",
    "\n",
    "    You can enclose the code that might raise an error within a try-except block.\n",
    "    If an error occurs within the try block, the program will not crash but instead\n",
    "    will execute the code within the corresponding except block, allowing you to\n",
    "    handle the error"
   ]
  },
  {
   "cell_type": "code",
   "execution_count": null,
   "id": "dacbed0c",
   "metadata": {},
   "outputs": [],
   "source": [
    "What is the purpose of the try clause? What is the purpose of the except clause?\n",
    "\n",
    "The try clause is used to \"try\" a piece of code and monitor it for potential exceptions. \n",
    "It helps you isolate and handle specific sections of code that may result in errors or exceptions,\n",
    "allowing you to control the program flow and handle errors.\n",
    "\n",
    "The purpose of the except clause is to define the block of code that will be executed if\n",
    "an exception is raised within the try block. It provides a way to catch and handle specific\n",
    "exceptions that occur during the execution of the try block.\n",
    "\n"
   ]
  }
 ],
 "metadata": {
  "kernelspec": {
   "display_name": "Python 3 (ipykernel)",
   "language": "python",
   "name": "python3"
  },
  "language_info": {
   "codemirror_mode": {
    "name": "ipython",
    "version": 3
   },
   "file_extension": ".py",
   "mimetype": "text/x-python",
   "name": "python",
   "nbconvert_exporter": "python",
   "pygments_lexer": "ipython3",
   "version": "3.9.13"
  }
 },
 "nbformat": 4,
 "nbformat_minor": 5
}
