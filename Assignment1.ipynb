{
 "cells": [
  {
   "cell_type": "code",
   "execution_count": null,
   "id": "a91fd546",
   "metadata": {},
   "outputs": [],
   "source": [
    "#In the below elements which of them are values or an expression? eg:- values can be integer or string and expressions will be mathematical operators.\n",
    "\n",
    "'*' is an expression representing the multiplication operator.\n",
    "'hello' is a value, specifically a string.\n",
    "-87.8 is a value, specifically a negative floating-point number.\n",
    "'-' is an expression representing the subtraction operator.\n",
    "'/' is an expression representing the division operator.\n",
    "'+' is an expression representing the addition operator.\n",
    "\n",
    "\n"
   ]
  },
  {
   "cell_type": "code",
   "execution_count": null,
   "id": "142e67d6",
   "metadata": {},
   "outputs": [],
   "source": [
    "#What is the difference between string and variable?\n",
    "string-A string is a data type used to represent a sequence of characters.\n",
    "strings are enclosed within quotation marks (either single or double). \n",
    "For example, \"hello\" and 'world' are both examples of strings. \n",
    "\n",
    "variable-A variable is a named container that holds a value.\n",
    " It is used to store and refer to different types of data, including strings.\n",
    "Variables have a name that you assign, and you can assign a value to a variable using the assignment operator.\n"
   ]
  },
  {
   "cell_type": "code",
   "execution_count": null,
   "id": "df5901e7",
   "metadata": {},
   "outputs": [],
   "source": [
    "#Describe three different data types.\n",
    "Integer (int):\n",
    "The integer data type represents whole numbers without any decimal parts.\n",
    "Integers can be both positive and negative or zero. They typically have a fixed size,\n",
    "which determines the range of values they can represent. Examples of integers include -5, 0, 42, and 1000.\n",
    "\n",
    "\n",
    "Floating-Point (float):\n",
    "The floating-point data type represents numbers with decimal values. \n",
    "Floating-point numbers are used to represent real numbers and can have both a \n",
    "whole number part and a fractional part. They can be positive or negative. \n",
    "Examples of floating-point numbers include -3.14, 2.71828, and 1.0.\n",
    "\n",
    "String:\n",
    "The string data type represents a sequence of characters. It is used to store and manipulate\n",
    "text or any collection of characters. Strings are typically enclosed within quotation marks, \n",
    "either single ('') or double (\"\"). They can contain letters, numbers, symbols, and whitespace.\n",
    "Examples of strings include \"Hello, World!\""
   ]
  },
  {
   "cell_type": "code",
   "execution_count": null,
   "id": "3499910c",
   "metadata": {},
   "outputs": [],
   "source": [
    "# What is an expression made up of? What do all expressions do?\n",
    "An expression is made up of one or more elements that can include values,\n",
    "variables, operators, and function calls. It represents a operation that produces a value.\n",
    "Expressions can be simple, consisting of a single value or variable, or they can be complex,\n",
    "involving multiple values and operators.\n",
    "Expressions are fundamental in programming as they allow you to perform computations, make decisions,\n",
    "and control the flow of your program based on the values produced by these expressions."
   ]
  },
  {
   "cell_type": "code",
   "execution_count": null,
   "id": "876f4a9e",
   "metadata": {},
   "outputs": [],
   "source": [
    "#This assignment statements, like spam = 10. What is the difference between an\n",
    "expression and a statement?\n",
    "An expression is a combination of values, variables, operators, and function calls that can be evaluated\n",
    "to produce a single value. It represents a computation or operation that results in a value. \n",
    "Expressions can be as simple as a single value or variable, or they can be complex with multiple\n",
    "elements and operators.\n",
    "Examples of expressions include:\n",
    "5 + 3\n",
    "x * 2\n",
    "\n",
    "A statement is a complete instruction or action in a program. \n",
    "It performs a specific task, such as assigning a value to a variable,\n",
    "controlling the flow of execution, or executing a block of code. Unlike expressions,\n",
    "statements do not necessarily produce a value. \n",
    "Examples of statements include:\n",
    "Assignment statement: spam = 10\n",
    "Conditional statement: if x > 0: ..."
   ]
  },
  {
   "cell_type": "code",
   "execution_count": null,
   "id": "a5182600",
   "metadata": {},
   "outputs": [],
   "source": [
    "#After running the following code, what does the variable bacon contain?\n",
    "bacon = 22\n",
    "bacon + 1\n",
    "\n",
    "a fter running code bacon value become 23."
   ]
  },
  {
   "cell_type": "code",
   "execution_count": null,
   "id": "e3731439",
   "metadata": {},
   "outputs": [],
   "source": [
    "#What should the values of the following two terms be?\n",
    "'spam' + 'spamspam'='spamspamspam'\n",
    "spam * 3 ='spamspamspam'"
   ]
  },
  {
   "cell_type": "code",
   "execution_count": null,
   "id": "e509d74d",
   "metadata": {},
   "outputs": [],
   "source": [
    "#Why is eggs a valid variable name while 100 is invalid?\n",
    "eggs is a valid variable name because it starts with a letter and consists of \n",
    "only valid characters (letters, digits, or underscores).\n",
    "\n",
    "100 is an invalid variable name because it starts with a digit, violating the rule \n",
    "that variable names cannot begin with a digit."
   ]
  },
  {
   "cell_type": "code",
   "execution_count": null,
   "id": "ce6c517f",
   "metadata": {},
   "outputs": [],
   "source": [
    "#What three functions can be used to get the integer, floating-point number, or string version of a value?\n",
    "int()-for integer\n",
    "float()-for floating point\n",
    "str()-for string\n"
   ]
  },
  {
   "cell_type": "code",
   "execution_count": null,
   "id": "d37d0651",
   "metadata": {},
   "outputs": [],
   "source": [
    "#Why does this expression cause an error? How can you fix it?\n",
    "'I have eaten' + 99 + 'burritos'\n",
    "The expression 'I have eaten ' + 99 + ' burritos.' causes an error because it involves concatenating\n",
    "a string with an integer value without proper conversion.\n",
    "\n",
    "In Python, concatenation with the + operator works when both operands are of the same type or can\n",
    "be implicitly converted to the same type. However, in this expression, the first operand is \n",
    "a string ('I have eaten '), and the second operand is an integer (99). The + operator expects both\n",
    "operands to be strings or both operands to be numbers."
   ]
  }
 ],
 "metadata": {
  "kernelspec": {
   "display_name": "Python 3 (ipykernel)",
   "language": "python",
   "name": "python3"
  },
  "language_info": {
   "codemirror_mode": {
    "name": "ipython",
    "version": 3
   },
   "file_extension": ".py",
   "mimetype": "text/x-python",
   "name": "python",
   "nbconvert_exporter": "python",
   "pygments_lexer": "ipython3",
   "version": "3.9.13"
  }
 },
 "nbformat": 4,
 "nbformat_minor": 5
}
