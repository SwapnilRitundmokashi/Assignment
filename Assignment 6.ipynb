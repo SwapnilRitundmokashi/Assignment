{
 "cells": [
  {
   "cell_type": "code",
   "execution_count": null,
   "id": "2fa4b78e",
   "metadata": {},
   "outputs": [],
   "source": [
    "1.What are escape characters, and how do you use them?\n",
    "2.What do the escape characters n and t stand for?\n",
    "3.What is the way to include backslash characters in a string?\n",
    "\n",
    "\n",
    "Escape characters are used to perform various functions such as inserting newline characters, tab characters, quotation marks, or representing characters that are difficult to type directly.\n",
    "\n",
    "Here are some commonly used escape characters in Python:\n",
    "\n",
    "\\n: Represents a newline character.\n",
    "\\t: Represents a tab character.\n",
    "\\': Represents a single quotation mark.\n",
    "\\\": Represents a double quotation mark.\n",
    "\\\\: Represents a backslash character."
   ]
  },
  {
   "cell_type": "code",
   "execution_count": null,
   "id": "dfeb744b",
   "metadata": {},
   "outputs": [],
   "source": [
    "The string Howl's Moving Castle&quot; is a correct value. Why isn't the single quote character in the\n",
    "word Howl's not escaped a problem?\n",
    "\n",
    "In the case of the string \"Howl's Moving Castle\", the single quote character within the word \"Howl's\" does not need to be escaped because the string itself is enclosed in double quotes. Python understands that the single quote in \"Howl's\" is part of the string and does not interpret it as the end of the string."
   ]
  },
  {
   "cell_type": "code",
   "execution_count": null,
   "id": "1ad0e56c",
   "metadata": {},
   "outputs": [],
   "source": [
    "How do you write a string of newlines if you dont want to use then character?\n",
    "\n",
    "\n",
    "If you want to write a string of newlines without using the newline character (\\n), you can use triple quotes (''' or \"\"\") to create a multiline string. In Python, triple-quoted strings can span multiple lines and preserve the line breaks as part of the string."
   ]
  },
  {
   "cell_type": "code",
   "execution_count": null,
   "id": "dd86cf32",
   "metadata": {},
   "outputs": [],
   "source": [
    "What are the values of the given expressions?\n",
    "\n",
    "'Hello, world!'[1] returns the character at index 1, which is 'e'.\n",
    "'Hello, world!'[0:5] returns the substring from index 0 to 4 (excluding 5), which is 'Hello'.\n",
    "'Hello, world!'[:5] is equivalent to 'Hello, world!'[0:5] and returns the same substring 'Hello'.\n",
    "'Hello, world!'[3:] returns the substring starting from index 3 till the end of the string, which is 'lo, world!'."
   ]
  },
  {
   "cell_type": "code",
   "execution_count": null,
   "id": "037c2ab1",
   "metadata": {},
   "outputs": [],
   "source": [
    "What are the values of the given expressions?\n",
    "\n",
    "\n",
    "'Hello'.upper() returns the string in uppercase, which is 'HELLO'.\n",
    "'Hello'.upper().isupper() checks if the uppercase string is entirely composed of uppercase letters, which returns True.\n",
    "'Hello'.upper().lower() converts the uppercase string to lowercase, resulting in 'hello'."
   ]
  },
  {
   "cell_type": "code",
   "execution_count": null,
   "id": "574b2347",
   "metadata": {},
   "outputs": [],
   "source": [
    "What are the values of the following expressions?\n",
    "\n",
    "\n",
    "'Remember, remember, the fifth of July.'.split() splits the string into a list of substrings based on whitespace characters (spaces, tabs, and newlines) by default. The resulting list is ['Remember,', 'remember,', 'the', 'fifth', 'of', 'July.'].\n",
    "\n",
    "'-'.join('There can only one.'.split()) splits the string into a list of substrings based on whitespace characters, which results in ['There', 'can', 'only', 'one.']. Then, the '-' character is used to join the substrings together, resulting in the string 'There-can-only-one.'."
   ]
  },
  {
   "cell_type": "code",
   "execution_count": 3,
   "id": "4eab28a6",
   "metadata": {},
   "outputs": [
    {
     "name": "stdout",
     "output_type": "stream",
     "text": [
      "     Hello\n",
      "Hello     \n",
      "  Hello   \n"
     ]
    }
   ],
   "source": [
    "#What are the methods for right-justifying, left-justifying, and centering a string?\n",
    "\n",
    "text = \"Hello\"\n",
    "\n",
    "# Right-justifying the string\n",
    "right_justified = text.rjust(10)\n",
    "print(right_justified)  \n",
    "\n",
    "# Left-justifying the string\n",
    "left_justified = text.ljust(10)\n",
    "print(left_justified)  \n",
    "\n",
    "# Centering the string\n",
    "centered = text.center(10)\n",
    "print(centered)      "
   ]
  },
  {
   "cell_type": "code",
   "execution_count": null,
   "id": "7395ff06",
   "metadata": {},
   "outputs": [],
   "source": [
    "What is the best way to remove whitespace characters from the start or end?\n",
    "\n",
    "\n",
    "text = \"   Hello, world!   \"\n",
    "trimmed_text = text.strip()\n",
    "print(trimmed_text) "
   ]
  },
  {
   "cell_type": "code",
   "execution_count": null,
   "id": "f7645bcc",
   "metadata": {},
   "outputs": [],
   "source": []
  },
  {
   "cell_type": "code",
   "execution_count": null,
   "id": "2adeb850",
   "metadata": {},
   "outputs": [],
   "source": []
  },
  {
   "cell_type": "code",
   "execution_count": null,
   "id": "d2902441",
   "metadata": {},
   "outputs": [],
   "source": []
  }
 ],
 "metadata": {
  "kernelspec": {
   "display_name": "Python 3 (ipykernel)",
   "language": "python",
   "name": "python3"
  },
  "language_info": {
   "codemirror_mode": {
    "name": "ipython",
    "version": 3
   },
   "file_extension": ".py",
   "mimetype": "text/x-python",
   "name": "python",
   "nbconvert_exporter": "python",
   "pygments_lexer": "ipython3",
   "version": "3.9.13"
  }
 },
 "nbformat": 4,
 "nbformat_minor": 5
}
