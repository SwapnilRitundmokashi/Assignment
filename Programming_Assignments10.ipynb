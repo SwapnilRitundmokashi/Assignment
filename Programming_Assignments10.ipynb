{
 "cells": [
  {
   "cell_type": "code",
   "execution_count": 2,
   "id": "27b7b5a5",
   "metadata": {},
   "outputs": [
    {
     "name": "stdout",
     "output_type": "stream",
     "text": [
      "Total sum: 128\n"
     ]
    }
   ],
   "source": [
    "#Write a Python program to find sum of elements in list?\n",
    "list=[2,44,5,5,9,58,5]\n",
    "sum=0\n",
    "for i in list:\n",
    "    sum=i + sum\n",
    "print(\"Total sum:\",sum)    "
   ]
  },
  {
   "cell_type": "code",
   "execution_count": 5,
   "id": "c57a1d34",
   "metadata": {},
   "outputs": [
    {
     "name": "stdout",
     "output_type": "stream",
     "text": [
      "Total mul: 9000\n"
     ]
    }
   ],
   "source": [
    "#Write a Python program to Multiply all numbers in the list?\n",
    "list=[2,4,5,5,9,5]\n",
    "sum=1\n",
    "for i in list:\n",
    "    sum= i *sum\n",
    "print(\"Total mul:\",sum)    "
   ]
  },
  {
   "cell_type": "code",
   "execution_count": 7,
   "id": "a9af7ad2",
   "metadata": {},
   "outputs": [
    {
     "name": "stdout",
     "output_type": "stream",
     "text": [
      "The smallest number in the list is: 2\n"
     ]
    }
   ],
   "source": [
    "#Write a Python program to find smallest number in a list?\n",
    "list=[2,4,5,5,9,5]\n",
    "\n",
    "if not list:\n",
    "    print(\"The list is empty.\")\n",
    "else:\n",
    "    smallest = list[0]\n",
    "    \n",
    "    for num in list:\n",
    "        if num < smallest:\n",
    "            smallest = num\n",
    "    \n",
    "    print(\"The smallest number in the list is:\", smallest)\n"
   ]
  },
  {
   "cell_type": "code",
   "execution_count": 12,
   "id": "1e66472b",
   "metadata": {},
   "outputs": [
    {
     "name": "stdout",
     "output_type": "stream",
     "text": [
      "The greatest number in the list is: 9\n"
     ]
    }
   ],
   "source": [
    "#Write a Python program to find largest number in a list?\n",
    "list=[2,4,5,5,9,5]\n",
    "\n",
    "if not list:\n",
    "    print(\"The list is empty.\")\n",
    "else:\n",
    "    greatest = list[0]\n",
    "    \n",
    "    for num in list:\n",
    "        if num > greatest:\n",
    "            greatest = num\n",
    "    \n",
    "    print(\"The greatest number in the list is:\", greatest)\n"
   ]
  },
  {
   "cell_type": "code",
   "execution_count": 17,
   "id": "3bb25328",
   "metadata": {},
   "outputs": [
    {
     "name": "stdout",
     "output_type": "stream",
     "text": [
      "The second largest number in the list is: 7\n"
     ]
    }
   ],
   "source": [
    "#Write a Python program to find second largest number in a list?\n",
    "num_list = [4, 2, 9, 1, 7, 5]\n",
    "\n",
    "if len(num_list) < 2:\n",
    "    print(\"There is no second largest number in the list.\")\n",
    "else:\n",
    "    largest = float('-inf')\n",
    "    second_largest = float('-inf')\n",
    "\n",
    "    for num in num_list:\n",
    "        if num > largest:\n",
    "            second_largest = largest\n",
    "            largest = num\n",
    "        elif num > second_largest and num != largest:\n",
    "            second_largest = num\n",
    "\n",
    "    if second_largest == float('-inf'):\n",
    "        print(\"There is no second largest number in the list.\")\n",
    "    else:\n",
    "        print(\"The second largest number in the list is:\", second_largest)\n"
   ]
  },
  {
   "cell_type": "code",
   "execution_count": 18,
   "id": "2fc35613",
   "metadata": {},
   "outputs": [
    {
     "name": "stdout",
     "output_type": "stream",
     "text": [
      "2\n",
      "44\n",
      "58\n"
     ]
    }
   ],
   "source": [
    "#Write a Python program to print even numbers in a list?\n",
    "list=[2,44,5,5,9,58,5]\n",
    "for i in list:\n",
    "    if i%2==0:\n",
    "        print(i)"
   ]
  },
  {
   "cell_type": "code",
   "execution_count": 19,
   "id": "8f7903ca",
   "metadata": {},
   "outputs": [
    {
     "name": "stdout",
     "output_type": "stream",
     "text": [
      "5\n",
      "5\n",
      "9\n",
      "5\n"
     ]
    }
   ],
   "source": [
    "#Write a Python program to print odd numbers in a List?\n",
    "list=[2,44,5,5,9,58,5]\n",
    "for i in list:\n",
    "    if i%2!=0:\n",
    "        print(i)"
   ]
  },
  {
   "cell_type": "code",
   "execution_count": 20,
   "id": "cf27f1f8",
   "metadata": {},
   "outputs": [
    {
     "name": "stdout",
     "output_type": "stream",
     "text": [
      "List after removing empty lists: [[1, 2, 3], [4, 5], [6, 7, 8]]\n"
     ]
    }
   ],
   "source": [
    "#Write a Python program to Remove empty List from List?\n",
    "list= [[1, 2, 3], [], [4, 5], [], [], [6, 7, 8], []]\n",
    "\n",
    "lists = [i for i in list if i]\n",
    "\n",
    "print(\"List after removing empty lists:\", lists)\n"
   ]
  },
  {
   "cell_type": "code",
   "execution_count": 1,
   "id": "ce90f9b8",
   "metadata": {},
   "outputs": [
    {
     "name": "stdout",
     "output_type": "stream",
     "text": [
      "Original list: [1, 2, 3, 4, 5]\n",
      "Cloned list: [1, 2, 3, 4, 5]\n",
      "Copied list: [1, 2, 3, 4, 5]\n"
     ]
    }
   ],
   "source": [
    "#Write a Python program to Cloning or Copying a list?\n",
    "original_list = [1, 2, 3, 4, 5]\n",
    "\n",
    "cloned_list = original_list[:]\n",
    "\n",
    "copied_list = list(original_list)\n",
    "\n",
    "print(\"Original list:\", original_list)\n",
    "print(\"Cloned list:\", cloned_list)\n",
    "print(\"Copied list:\", copied_list)\n"
   ]
  },
  {
   "cell_type": "code",
   "execution_count": 2,
   "id": "b3fda242",
   "metadata": {},
   "outputs": [
    {
     "name": "stdout",
     "output_type": "stream",
     "text": [
      "Number of occurrences of 2 in the list: 4\n"
     ]
    }
   ],
   "source": [
    "#Write a Python program to Count occurrences of an element in a list?\n",
    "num_list = [1, 2, 3, 2, 4, 2, 5, 2]\n",
    "target_element = 2\n",
    "\n",
    "count = 0\n",
    "\n",
    "for item in num_list:\n",
    "    if item == target_element:\n",
    "        count += 1\n",
    "\n",
    "print(\"Number of occurrences of\", target_element, \"in the list:\", count)\n"
   ]
  },
  {
   "cell_type": "code",
   "execution_count": null,
   "id": "e4972b9f",
   "metadata": {},
   "outputs": [],
   "source": []
  }
 ],
 "metadata": {
  "kernelspec": {
   "display_name": "Python 3 (ipykernel)",
   "language": "python",
   "name": "python3"
  },
  "language_info": {
   "codemirror_mode": {
    "name": "ipython",
    "version": 3
   },
   "file_extension": ".py",
   "mimetype": "text/x-python",
   "name": "python",
   "nbconvert_exporter": "python",
   "pygments_lexer": "ipython3",
   "version": "3.9.13"
  }
 },
 "nbformat": 4,
 "nbformat_minor": 5
}
