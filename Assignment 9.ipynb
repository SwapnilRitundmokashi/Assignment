{
 "cells": [
  {
   "cell_type": "code",
   "execution_count": null,
   "id": "1fe80a26",
   "metadata": {},
   "outputs": [],
   "source": [
    "To what does a relative path refer?\n",
    " A relative path refers to a file path that is expressed in relation to the current working directory . It specifies the location of a file  relative to the current location in the file system hierarchy.\n",
    "The concept of relative paths is used when navigating and referencing files within a file system without specifying the complete  path from the root directory. Instead, it relies on the context of the current working directory."
   ]
  },
  {
   "cell_type": "code",
   "execution_count": null,
   "id": "ac886c59",
   "metadata": {},
   "outputs": [],
   "source": [
    "What does an absolute path start with your operating system?\n",
    "An absolute path in Windows typically starts with a drive letter, followed by a colon (:), and then a backslash (\\). For example, C:\\path\\to\\file.txt is an absolute path on Windows, where C: represents the drive letter for the specific disk drive."
   ]
  },
  {
   "cell_type": "code",
   "execution_count": null,
   "id": "f21d7efd",
   "metadata": {},
   "outputs": [],
   "source": [
    "What do the functions os.getcwd() and os.chdir() do?\n",
    "os.getcwd(): This function returns a string representing the current working directory. The current working directory is the directory in the file system from which the Python script is executed or the directory to which it is currently navigating.\n",
    "    \n",
    "os.chdir() : This function changes the current working directory to the path specified as an argument. It takes a string representing the path to the desired directory."
   ]
  },
  {
   "cell_type": "code",
   "execution_count": null,
   "id": "d8eabc76",
   "metadata": {},
   "outputs": [],
   "source": [
    "What are the . and .. folders?\n",
    ". (Dot): The . folder is a reference to the current directory. It is often used to specify the current directory in file system paths. For example, if you're in the directory /home/user, ./file.txt refers to the file file.txt in the current directory (/home/user in this case).\n",
    "\n",
    ".. (Dot Dot): The .. folder is a reference to the parent directory. It is used to navigate to the directory immediately above the current directory in file system paths. For example, if you're in the directory /home/user, ../otherfile.txt refers to the file otherfile.txt in the parent directory (/home in this case).\n",
    "\n"
   ]
  },
  {
   "cell_type": "code",
   "execution_count": null,
   "id": "07ace0a4",
   "metadata": {},
   "outputs": [],
   "source": [
    "In C:\\bacon\\eggs\\spam.txt, which part is the dir name, and which part is the base name?\n",
    "spam.txt is the base name in the given path. It refers to the actual file name, excluding the directory path.\n",
    "C:\\bacon\\eggs is the directory name in the given path. It represents the sequence of directories leading up to the file itself."
   ]
  },
  {
   "cell_type": "code",
   "execution_count": null,
   "id": "ee87cd2f",
   "metadata": {},
   "outputs": [],
   "source": [
    "What are the three “mode” arguments that can be passed to the open() function?\n",
    "Read Mode ('r'): This is the default mode when no mode argument is provided. It opens the file in read-only mode. You can read the contents of the file using methods like read(), readline(), or readlines(). An error will occur if the file does not exist.\n",
    "\n",
    "Write Mode ('w'): This mode opens the file in write-only mode. If the file exists, its contents are truncated (cleared). If the file does not exist, a new file is created. You can write data to the file using methods like write() or writelines().\n",
    "\n",
    "Append Mode ('a'): This mode opens the file in append mode. If the file exists, new data is appended at the end of the file. If the file does not exist, a new file is created. You can write data to the end of the file using methods like write() or writelines().\n",
    " "
   ]
  },
  {
   "cell_type": "code",
   "execution_count": null,
   "id": "b3fd6d7a",
   "metadata": {},
   "outputs": [],
   "source": [
    "What happens if an existing file is opened in write mode?\n",
    "When you open a file in write mode, if the file already exists, its contents are completely truncated, i.e.deleted. The file becomes empty, and any existing data in the file is lost."
   ]
  },
  {
   "cell_type": "code",
   "execution_count": null,
   "id": "7b9ab67d",
   "metadata": {},
   "outputs": [],
   "source": [
    "How do you tell the difference between read() and readlines()?\n",
    "read() Method:\n",
    "The read() method reads the entire content of the file and returns it as a single string.\n",
    "It reads the file from the current position or from the beginning if no position is specified.\n",
    "If the file is large, reading the entire content into memory using read() may not be efficient.\n",
    "\n",
    "The readlines() method reads the content of the file line by line and returns a list of strings, where each string represents a line of the file.\n",
    "It reads the file from the current position or from the beginning if no position is specified.\n",
    "The lines in the list include the newline character (\\n) at the end of each line unless it is the last line."
   ]
  },
  {
   "cell_type": "code",
   "execution_count": null,
   "id": "fb71cbe2",
   "metadata": {},
   "outputs": [],
   "source": [
    "What data structure does a shelf value resemble?\n",
    "A shelf value can be accessed using key-value pairs, similar to a dictionary. The keys are strings, and the values can be any picklable Python object. The shelve module uses the Python pickle module internally to handle the serialization and deserialization of objects."
   ]
  }
 ],
 "metadata": {
  "kernelspec": {
   "display_name": "Python 3 (ipykernel)",
   "language": "python",
   "name": "python3"
  },
  "language_info": {
   "codemirror_mode": {
    "name": "ipython",
    "version": 3
   },
   "file_extension": ".py",
   "mimetype": "text/x-python",
   "name": "python",
   "nbconvert_exporter": "python",
   "pygments_lexer": "ipython3",
   "version": "3.9.13"
  }
 },
 "nbformat": 4,
 "nbformat_minor": 5
}
