{
 "cells": [
  {
   "cell_type": "code",
   "execution_count": null,
   "id": "85b3979e",
   "metadata": {},
   "outputs": [],
   "source": [
    "What exactly is []?\n",
    "\n",
    "The [] represents an empty list with no elements."
   ]
  },
  {
   "cell_type": "code",
   "execution_count": 2,
   "id": "3bb2d848",
   "metadata": {},
   "outputs": [
    {
     "name": "stdout",
     "output_type": "stream",
     "text": [
      "[2, 4, 'hello', 8, 10]\n",
      "['a', 'e', 'c', 'd']\n",
      "['a', 'b', 'd']\n"
     ]
    }
   ],
   "source": [
    "#In a list of values stored in a variable called spam, how would you assign the value 'hello' as the third value? (Assume [2, 4, 6, 8, 10] are in spam.)\n",
    "\n",
    "spam = [2, 4, 6, 8, 10]\n",
    "spam[2] = 'hello'\n",
    "print(spam)\n",
    "\n",
    "spam = ['a', 'b', 'c', 'd']\n",
    "spam[1] = 'e'\n",
    "print(spam)\n",
    "\n",
    "spam = ['a', 'b', 'c', 'd']\n",
    "spam.remove('c')\n",
    "print(spam) \n"
   ]
  },
  {
   "cell_type": "code",
   "execution_count": null,
   "id": "f20a36da",
   "metadata": {},
   "outputs": [],
   "source": [
    "What is the value of spam[int(int(&#39;3&#39; * 2) / 11)]?\n",
    "                                  \n",
    "In this expression, '3' * 2 multiplies the string '3' by 2, resulting in the string '33'. \n",
    "Then, int('33') converts the string '33' to an integer, which is 33.\n",
    "\n",
    "Next, int('33') / 11 performs integer division, resulting in the value 3.0 since both operands are integers.\n",
    "\n",
    "Finally, spam[int(int('3' * 2) / 11)] attempts to access the element at the index 3 in the spam list."
   ]
  },
  {
   "cell_type": "code",
   "execution_count": null,
   "id": "80f3f8f9",
   "metadata": {},
   "outputs": [],
   "source": [
    "What is the value of spam[-1]?\n",
    "\n",
    "It returns last elements of the list.In Python, negative indexing allows you to access elements from the end of the list. The index -1 refers to the last element"
   ]
  },
  {
   "cell_type": "code",
   "execution_count": null,
   "id": "c6e3eb59",
   "metadata": {},
   "outputs": [],
   "source": [
    "What is the value of spam[:2]?\n",
    "\n",
    "the slice notation [:2] represents a slice that includes all elements from the beginning of the list up to (but not including) the element at index 2. It extracts a sublist containing the first two elements of the data structure."
   ]
  },
  {
   "cell_type": "code",
   "execution_count": null,
   "id": "97fdb90e",
   "metadata": {},
   "outputs": [],
   "source": [
    "'''Let&#39;s pretend bacon has the list [3.14, &#39;cat,&#39; 11, &#39;cat,&#39; True] for the next three questions.\n",
    "6. What is the value of bacon.index(&#39;cat&#39;)?\n",
    "7. How does bacon.append(99) change the look of the list value in bacon?\n",
    "8. How does bacon.remove(&#39;cat&#39;) change the look of the list in bacon?'''\n",
    "\n",
    "6-1\n",
    "7-[3.14,'cat', 11,'cat', True,99]\n",
    "8-[3.14, 11,'cat', True,99]"
   ]
  },
  {
   "cell_type": "code",
   "execution_count": null,
   "id": "9d1509d1",
   "metadata": {},
   "outputs": [],
   "source": [
    "What are the list concatenation and list replication operators?\n",
    "\n",
    "The + operator is used to concatenate two or more lists, combining their elements into a single list. It creates a new list containing all the elements from the operands in the order they appear.\n",
    "\n",
    "The * operator is used to replicate a list by a specified number of times. It creates a new list that repeats the original lists elements the given number of times."
   ]
  },
  {
   "cell_type": "code",
   "execution_count": null,
   "id": "4519e8d2",
   "metadata": {},
   "outputs": [],
   "source": [
    "What is difference between the list methods append() and insert()?\n",
    "\n",
    "The append() method is used to add an element to the end of a list.t takes a single argument, which is the element to be added, and appends it to the end of the list.\n",
    "\n",
    "The insert() method is used to add an element at a specific position in a list. It takes two arguments: the index where the element should be inserted and the element to be inserted.\n"
   ]
  },
  {
   "cell_type": "code",
   "execution_count": null,
   "id": "c9a047ea",
   "metadata": {},
   "outputs": [],
   "source": [
    "What are the two methods for removing items from a list?\n",
    "\n",
    "The remove() method is used to remove the first occurrence of a specified value from a list. It takes a single argument, which is the value to be removed.\n",
    "\n",
    "The pop() method is used to remove and return an element from a specific index in a list. It takes an optional argument, which is the index of the element to be removed. If no index is provided, it removes and returns the last element of the list.\n"
   ]
  },
  {
   "cell_type": "code",
   "execution_count": null,
   "id": "5e7914b8",
   "metadata": {},
   "outputs": [],
   "source": [
    "Describe how list values and string values are identical.\n",
    "\n",
    "Both lists and strings are sequential collections of elements. Lists are ordered collections of arbitrary objects, while strings are ordered sequences of characters.\n",
    "\n",
    "Both lists and strings allow accessing their elements by index. Indexing starts from 0, where the first element has an index of 0."
   ]
  },
  {
   "cell_type": "code",
   "execution_count": null,
   "id": "51dc61f4",
   "metadata": {},
   "outputs": [],
   "source": [
    "What&#39;s the difference between tuples and lists?\n",
    "\n",
    "Lists are mutable, meaning you can modify, add, or remove elements after the list is created. Tuples, on the other hand, are immutable, which means they cannot be modified once created. Once a tuple is defined, its elements cannot be changed.\n",
    "Lists are defined using square brackets [], while tuples are defined using parentheses (). \n",
    "Tuples are generally more memory-efficient and faster to access compared to lists.\n"
   ]
  },
  {
   "cell_type": "code",
   "execution_count": null,
   "id": "ac691dc9",
   "metadata": {},
   "outputs": [],
   "source": [
    "How do you type a tuple value that only contains the integer 42?\n",
    "\n",
    "my_tuple = (42,)\n",
    "\n",
    "comma , after the integer value. It is important to include the comma, even though there is only one element in the tuple."
   ]
  },
  {
   "cell_type": "code",
   "execution_count": null,
   "id": "6a4670ae",
   "metadata": {},
   "outputs": [],
   "source": [
    "How do you get a list values tuple form? How do you get a tuple values list form?\n",
    "\n",
    "\n",
    "To convert a list value to its tuple form, you can use the tuple() function. \n",
    "\n",
    "To convert a tuple value to its list form, you can use the list() function.\n"
   ]
  },
  {
   "cell_type": "code",
   "execution_count": null,
   "id": "cbbea4e1",
   "metadata": {},
   "outputs": [],
   "source": [
    "Variables that &quot;contain&quot; list values are not necessarily lists themselves. Instead, what do they\n",
    "contain?\n",
    "\n",
    "the variable contains a memory address that points to the location of the list in the computers memory."
   ]
  },
  {
   "cell_type": "code",
   "execution_count": null,
   "id": "6ee06399",
   "metadata": {},
   "outputs": [],
   "source": [
    "How do you distinguish between copy.copy() and copy.deepcopy()?\n",
    "\n",
    "The copy.copy() function performs a shallow copy of an object. It creates a new object and copies the references to the nested objects in the original object. However, the nested objects themselves are not recursively copied. This means that if the original object contains mutable objects, both the original object and the copied object will share the same mutable objects.\n",
    "\n",
    "The copy.deepcopy() function, on the other hand, performs a deep copy of an object. It creates a new object and recursively copies all the nested objects within the original object. This ensures that the copied object is entirely independent of the original object. Even if the original object contains mutable objects, the copied object will have its own separate copies of those mutable objects."
   ]
  },
  {
   "cell_type": "code",
   "execution_count": null,
   "id": "eb5802cf",
   "metadata": {},
   "outputs": [],
   "source": []
  }
 ],
 "metadata": {
  "kernelspec": {
   "display_name": "Python 3 (ipykernel)",
   "language": "python",
   "name": "python3"
  },
  "language_info": {
   "codemirror_mode": {
    "name": "ipython",
    "version": 3
   },
   "file_extension": ".py",
   "mimetype": "text/x-python",
   "name": "python",
   "nbconvert_exporter": "python",
   "pygments_lexer": "ipython3",
   "version": "3.9.13"
  }
 },
 "nbformat": 4,
 "nbformat_minor": 5
}
