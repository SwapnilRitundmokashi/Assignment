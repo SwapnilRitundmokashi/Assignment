{
 "cells": [
  {
   "cell_type": "code",
   "execution_count": 9,
   "id": "3b9ebe05",
   "metadata": {},
   "outputs": [
    {
     "name": "stdout",
     "output_type": "stream",
     "text": [
      "Result:\n",
      "[10, 10, 10]\n",
      "[10, 10, 10]\n",
      "[10, 10, 10]\n"
     ]
    }
   ],
   "source": [
    "#Write a Python Program to Add Two Matrices?\n",
    "def add_matrices(matrix1, matrix2):\n",
    "    rows = len(matrix1)\n",
    "    columns = len(matrix1[0])\n",
    "\n",
    "    result_matrix = [[0 for _ in range(columns)] for _ in range(rows)]\n",
    "\n",
    "    for i in range(rows):\n",
    "        for j in range(columns):\n",
    "            result_matrix[i][j] = matrix1[i][j] + matrix2[i][j]\n",
    "\n",
    "    return result_matrix\n",
    "\n",
    "matrix1 = [[1, 2, 3],\n",
    "           [4, 5, 6],\n",
    "           [7, 8, 9]]\n",
    "\n",
    "matrix2 = [[9, 8, 7],\n",
    "           [6, 5, 4],\n",
    "           [3, 2, 1]]\n",
    "\n",
    "result = add_matrices(matrix1, matrix2)\n",
    "\n",
    "\n",
    "print(\"Result:\")\n",
    "for row in result:\n",
    "    print(row)\n"
   ]
  },
  {
   "cell_type": "code",
   "execution_count": 10,
   "id": "df7a2f24",
   "metadata": {},
   "outputs": [
    {
     "name": "stdout",
     "output_type": "stream",
     "text": [
      "Result:\n",
      "[58, 64]\n",
      "[139, 154]\n"
     ]
    }
   ],
   "source": [
    "#Write a Python Program to Multiply Two Matrices?\n",
    "matrix1 = [[1, 2, 3],\n",
    "           [4, 5, 6]]\n",
    "\n",
    "matrix2 = [[7, 8],\n",
    "           [9, 10],\n",
    "           [11, 12]]\n",
    "\n",
    "rows1 = len(matrix1)\n",
    "cols1 = len(matrix1[0])\n",
    "rows2 = len(matrix2)\n",
    "cols2 = len(matrix2[0])\n",
    "\n",
    "if cols1 != rows2:\n",
    "    print(\"Cannot multiply the matrices. Invalid dimensions.\")\n",
    "else:\n",
    "\n",
    "    result_matrix = [[0 for _ in range(cols2)] for _ in range(rows1)]\n",
    "\n",
    "    for i in range(rows1):\n",
    "        for j in range(cols2):\n",
    "            for k in range(cols1):\n",
    "                result_matrix[i][j] += matrix1[i][k] * matrix2[k][j]\n",
    "\n",
    "    print(\"Result:\")\n",
    "    for row in result_matrix:\n",
    "        print(row)\n"
   ]
  },
  {
   "cell_type": "code",
   "execution_count": 13,
   "id": "f2184559",
   "metadata": {},
   "outputs": [
    {
     "name": "stdout",
     "output_type": "stream",
     "text": [
      "Transposed Matrix:\n",
      "[1, 4, 7]\n",
      "[2, 5, 8]\n",
      "[3, 6, 9]\n"
     ]
    },
    {
     "data": {
      "text/plain": [
       "[None, None, None]"
      ]
     },
     "execution_count": 13,
     "metadata": {},
     "output_type": "execute_result"
    }
   ],
   "source": [
    "#Write a Python Program to Transpose a Matrix?\n",
    "matrix = [[1, 2, 3],\n",
    "          [4, 5, 6],\n",
    "          [7, 8, 9]]\n",
    "\n",
    "transposed = [[matrix[j][i] for j in range(len(matrix))] for i in range(len(matrix[0]))]\n",
    "\n",
    "\n",
    "\n",
    "print(\"Transposed Matrix:\")\n",
    "[print(row) for row in transposed]\n"
   ]
  },
  {
   "cell_type": "code",
   "execution_count": 15,
   "id": "403e3e6e",
   "metadata": {},
   "outputs": [
    {
     "name": "stdout",
     "output_type": "stream",
     "text": [
      "Original Sentence:\n",
      "This is an example sentence to sort words in alphabetical order\n",
      "Sorted Words:\n",
      "alphabetical\n",
      "an\n",
      "example\n",
      "in\n",
      "is\n",
      "order\n",
      "sentence\n",
      "sort\n",
      "This\n",
      "to\n",
      "words\n"
     ]
    }
   ],
   "source": [
    "#Write a Python Program to Sort Words in Alphabetic Order?\n",
    "sentence = \"This is an example sentence to sort words in alphabetical order\"\n",
    "words = sentence.split()\n",
    "\n",
    "sorted_words = sorted(words, key=str.lower)\n",
    "\n",
    "print(\"Sorted Words:\")\n",
    "for word in sorted_words:\n",
    "    print(word)\n",
    "\n"
   ]
  },
  {
   "cell_type": "code",
   "execution_count": 17,
   "id": "172cb0c9",
   "metadata": {},
   "outputs": [
    {
     "name": "stdout",
     "output_type": "stream",
     "text": [
      "Processed Sentence:\n",
      "Hello there How are you\n"
     ]
    }
   ],
   "source": [
    "#Write a Python Program to Remove Punctuation From a String?\n",
    "import string\n",
    "\n",
    "sentence = \"Hello, there! How are you?\"\n",
    "processed_sentence = \"\"\n",
    "for char in sentence:\n",
    "    if char not in string.punctuation:\n",
    "        processed_sentence += char\n",
    "\n",
    "print(\"Processed Sentence:\")\n",
    "print(processed_sentence)\n"
   ]
  },
  {
   "cell_type": "code",
   "execution_count": null,
   "id": "79082e1f",
   "metadata": {},
   "outputs": [],
   "source": []
  }
 ],
 "metadata": {
  "kernelspec": {
   "display_name": "Python 3 (ipykernel)",
   "language": "python",
   "name": "python3"
  },
  "language_info": {
   "codemirror_mode": {
    "name": "ipython",
    "version": 3
   },
   "file_extension": ".py",
   "mimetype": "text/x-python",
   "name": "python",
   "nbconvert_exporter": "python",
   "pygments_lexer": "ipython3",
   "version": "3.9.13"
  }
 },
 "nbformat": 4,
 "nbformat_minor": 5
}
