{
 "cells": [
  {
   "cell_type": "code",
   "execution_count": null,
   "id": "c17e8f80",
   "metadata": {},
   "outputs": [],
   "source": [
    "Is the Python Standard Library included with PyInputPlus?\n",
    "\n",
    "No, the Python Standard Library is not included with PyInputPlus. PyInputPlus is a third-party library that provides additional functionality and convenience for user input handling in Python"
   ]
  },
  {
   "cell_type": "code",
   "execution_count": null,
   "id": "fb8e80ff",
   "metadata": {},
   "outputs": [],
   "source": [
    "Why is PyInputPlus commonly imported with import pyinputplus as pypi?\n",
    "\n",
    "The statement import pyinputplus as pypi is a common way of importing the PyInputPlus library and assigning it a shorter alias, in this case, pypi"
   ]
  },
  {
   "cell_type": "code",
   "execution_count": null,
   "id": "80ba0543",
   "metadata": {},
   "outputs": [],
   "source": [
    "How do you distinguish between inputInt() and inputFloat()?\n",
    "\n",
    "inputInt(): Expects the user to input an integer value.\n",
    "inputFloat(): Expects the user to input a floating-point number.\n"
   ]
  },
  {
   "cell_type": "code",
   "execution_count": null,
   "id": "943a91ab",
   "metadata": {},
   "outputs": [],
   "source": [
    "Using PyInputPlus, how do you ensure that the user enters a whole number between 0 and 99?\n",
    "\n",
    "\n",
    "To ensure that the user enters a whole number between 0 and 99 using PyInputPlus, you can utilize the inputInt() function along with the min and max parameters for input validation.\n",
    "\n",
    "code\n",
    "import pyinputplus as pypi\n",
    "num = pypi.inputInt(\"Enter a number between 0 and 99: \", min=0, max=99)\n",
    "print(\"You entered:\", num)"
   ]
  },
  {
   "cell_type": "code",
   "execution_count": null,
   "id": "c08eae5e",
   "metadata": {},
   "outputs": [],
   "source": [
    "What is transferred to the keyword arguments allowRegexes and blockRegexes?\n",
    "\n",
    "allowRegexes: This argument accepts a list of regular expressions. If provided, PyInputPlus will only allow user input that matches at least one of the regular expressions in the list. If the input does not match any of the specified regular expressions, PyInputPlus will reject it and prompt the user for input again. The input is considered valid only if it matches at least one expression from the allowRegexes list.\n",
    "    \n",
    "    blockRegexes: This argument also takes a list of regular expressions. If provided, PyInputPlus will block any user input that matches any of the regular expressions in the list. If the input matches any of the specified regular expressions, PyInputPlus will reject it and prompt the user for input again. The input is considered invalid if it matches any expression from the blockRegexes list."
   ]
  },
  {
   "cell_type": "code",
   "execution_count": null,
   "id": "daea622e",
   "metadata": {},
   "outputs": [],
   "source": [
    "If a blank input is entered three times, what does inputStr(limit=3) do?\n",
    "\n",
    "When using inputStr(limit=3), if a blank input is entered three times consecutively, PyInputPlus will raise a ValidationException"
   ]
  },
  {
   "cell_type": "code",
   "execution_count": null,
   "id": "63ba5241",
   "metadata": {},
   "outputs": [],
   "source": [
    "If blank input is entered three times, what does inputStr(limit=3, default='hello') do?\n",
    "\n",
    "If blank input is entered three times when using inputStr(limit=3, default='hello'), PyInputPlus will return the default value 'hello'."
   ]
  },
  {
   "cell_type": "code",
   "execution_count": null,
   "id": "07c84880",
   "metadata": {},
   "outputs": [],
   "source": []
  },
  {
   "cell_type": "code",
   "execution_count": null,
   "id": "d22e8cd5",
   "metadata": {},
   "outputs": [],
   "source": []
  }
 ],
 "metadata": {
  "kernelspec": {
   "display_name": "Python 3 (ipykernel)",
   "language": "python",
   "name": "python3"
  },
  "language_info": {
   "codemirror_mode": {
    "name": "ipython",
    "version": 3
   },
   "file_extension": ".py",
   "mimetype": "text/x-python",
   "name": "python",
   "nbconvert_exporter": "python",
   "pygments_lexer": "ipython3",
   "version": "3.9.13"
  }
 },
 "nbformat": 4,
 "nbformat_minor": 5
}
