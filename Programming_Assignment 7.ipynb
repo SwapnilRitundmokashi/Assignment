{
 "cells": [
  {
   "cell_type": "code",
   "execution_count": 3,
   "id": "98174eca",
   "metadata": {},
   "outputs": [
    {
     "data": {
      "text/plain": [
       "18"
      ]
     },
     "execution_count": 3,
     "metadata": {},
     "output_type": "execute_result"
    }
   ],
   "source": [
    "#Write a Python Program to find sum of array?\n",
    "def sum1(x):\n",
    "    a=0\n",
    "    for i in x:\n",
    "        \n",
    "        a=a+i\n",
    "    return a\n",
    "x=[1,3,4,5,5]\n",
    "sum1(x)"
   ]
  },
  {
   "cell_type": "code",
   "execution_count": 4,
   "id": "34e3e8a5",
   "metadata": {},
   "outputs": [
    {
     "name": "stdout",
     "output_type": "stream",
     "text": [
      "99\n"
     ]
    }
   ],
   "source": [
    "#Write a Python Program to find largest element in an array?\n",
    "\n",
    "l=[4,7,8,99,6,77,55]\n",
    "print(max(l))"
   ]
  },
  {
   "cell_type": "code",
   "execution_count": 6,
   "id": "d494f837",
   "metadata": {},
   "outputs": [
    {
     "name": "stdout",
     "output_type": "stream",
     "text": [
      "[1, 2, 3, 4, 5]\n",
      "Rotated Array: [4, 5, 1, 2, 3]\n"
     ]
    }
   ],
   "source": [
    "#Write a Python Program for array rotation?\n",
    "arr = [1, 2, 3, 4, 5]\n",
    "rotations = 2\n",
    "\n",
    "rotations = rotations % len(arr)\n",
    "\n",
    "\n",
    "rotated_arr = arr[-rotations:] + arr[:-rotations]\n",
    "\n",
    "print(arr)\n",
    "print(\"Rotated Array:\", rotated_arr)"
   ]
  },
  {
   "cell_type": "code",
   "execution_count": 7,
   "id": "9a82a94c",
   "metadata": {},
   "outputs": [
    {
     "name": "stdout",
     "output_type": "stream",
     "text": [
      "Original Array: [1, 2, 3, 4, 5]\n",
      "Merged Array: [3, 4, 5, 1, 2]\n"
     ]
    }
   ],
   "source": [
    "#Write a Python Program to Split the array and add the first part to the end?\n",
    "\n",
    "def split_and_add(arr, split_index):\n",
    "    first_part = arr[:split_index]\n",
    "    second_part = arr[split_index:]\n",
    "    \n",
    "    merged_arr = second_part + first_part\n",
    "    \n",
    "    return merged_arr\n",
    "\n",
    "arr = [1, 2, 3, 4, 5]\n",
    "split_index = 2\n",
    "\n",
    "merged_arr = split_and_add(arr, split_index)\n",
    "print(\"Original Array:\", arr)\n",
    "print(\"Merged Array:\", merged_arr)\n"
   ]
  },
  {
   "cell_type": "code",
   "execution_count": 8,
   "id": "f1c05c32",
   "metadata": {},
   "outputs": [
    {
     "name": "stdout",
     "output_type": "stream",
     "text": [
      "Array: [1, 2, 3, 4, 5]\n",
      "Is Monotonic? True\n"
     ]
    }
   ],
   "source": [
    "#Write a Python Program to check if given array is Monotonic?\n",
    "arr = [1, 2, 3, 4, 5]\n",
    "increasing = decreasing = True\n",
    "\n",
    "for i in range(1, len(arr)):\n",
    "    if arr[i] < arr[i-1]:\n",
    "        increasing = False\n",
    "    if arr[i] > arr[i-1]:\n",
    "        decreasing = False\n",
    "\n",
    "is_mono = increasing or decreasing\n",
    "\n",
    "print(\"Array:\", arr)\n",
    "print(\"Is Monotonic?\", is_mono)"
   ]
  },
  {
   "cell_type": "code",
   "execution_count": null,
   "id": "5e4eaf7d",
   "metadata": {},
   "outputs": [],
   "source": []
  }
 ],
 "metadata": {
  "kernelspec": {
   "display_name": "Python 3 (ipykernel)",
   "language": "python",
   "name": "python3"
  },
  "language_info": {
   "codemirror_mode": {
    "name": "ipython",
    "version": 3
   },
   "file_extension": ".py",
   "mimetype": "text/x-python",
   "name": "python",
   "nbconvert_exporter": "python",
   "pygments_lexer": "ipython3",
   "version": "3.9.13"
  }
 },
 "nbformat": 4,
 "nbformat_minor": 5
}
