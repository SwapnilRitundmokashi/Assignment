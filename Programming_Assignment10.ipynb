{
 "cells": [
  {
   "cell_type": "code",
   "execution_count": 2,
   "id": "76f4db54",
   "metadata": {},
   "outputs": [
    {
     "name": "stdout",
     "output_type": "stream",
     "text": [
      "Total sum: 128\n"
     ]
    }
   ],
   "source": [
    "#Write a Python program to find sum of elements in list?\n",
    "list=[2,44,5,5,9,58,5]\n",
    "sum=0\n",
    "for i in list:\n",
    "    sum=i + sum\n",
    "print(\"Total sum:\",sum)    "
   ]
  },
  {
   "cell_type": "code",
   "execution_count": 5,
   "id": "76ff98ec",
   "metadata": {},
   "outputs": [
    {
     "name": "stdout",
     "output_type": "stream",
     "text": [
      "Total mul: 9000\n"
     ]
    }
   ],
   "source": [
    "#Write a Python program to Multiply all numbers in the list?\n",
    "list=[2,4,5,5,9,5]\n",
    "sum=1\n",
    "for i in list:\n",
    "    sum= i *sum\n",
    "print(\"Total mul:\",sum)    "
   ]
  },
  {
   "cell_type": "code",
   "execution_count": 7,
   "id": "c41466b6",
   "metadata": {},
   "outputs": [
    {
     "name": "stdout",
     "output_type": "stream",
     "text": [
      "The smallest number in the list is: 2\n"
     ]
    }
   ],
   "source": [
    "#Write a Python program to find smallest number in a list?\n",
    "list=[2,4,5,5,9,5]\n",
    "\n",
    "if not list:\n",
    "    print(\"The list is empty.\")\n",
    "else:\n",
    "    smallest = list[0]\n",
    "    \n",
    "    for num in list:\n",
    "        if num < smallest:\n",
    "            smallest = num\n",
    "    \n",
    "    print(\"The smallest number in the list is:\", smallest)\n"
   ]
  },
  {
   "cell_type": "code",
   "execution_count": 12,
   "id": "f858dcda",
   "metadata": {},
   "outputs": [
    {
     "name": "stdout",
     "output_type": "stream",
     "text": [
      "The greatest number in the list is: 9\n"
     ]
    }
   ],
   "source": [
    "#Write a Python program to find largest number in a list?\n",
    "list=[2,4,5,5,9,5]\n",
    "\n",
    "if not list:\n",
    "    print(\"The list is empty.\")\n",
    "else:\n",
    "    greatest = list[0]\n",
    "    \n",
    "    for num in list:\n",
    "        if num > greatest:\n",
    "            greatest = num\n",
    "    \n",
    "    print(\"The greatest number in the list is:\", greatest)\n"
   ]
  },
  {
   "cell_type": "code",
   "execution_count": 17,
   "id": "baf2a1f2",
   "metadata": {},
   "outputs": [
    {
     "name": "stdout",
     "output_type": "stream",
     "text": [
      "The second largest number in the list is: 7\n"
     ]
    }
   ],
   "source": [
    "#Write a Python program to find second largest number in a list?\n",
    "num_list = [4, 2, 9, 1, 7, 5]\n",
    "\n",
    "if len(num_list) < 2:\n",
    "    print(\"There is no second largest number in the list.\")\n",
    "else:\n",
    "    largest = float('-inf')\n",
    "    second_largest = float('-inf')\n",
    "\n",
    "    for num in num_list:\n",
    "        if num > largest:\n",
    "            second_largest = largest\n",
    "            largest = num\n",
    "        elif num > second_largest and num != largest:\n",
    "            second_largest = num\n",
    "\n",
    "    if second_largest == float('-inf'):\n",
    "        print(\"There is no second largest number in the list.\")\n",
    "    else:\n",
    "        print(\"The second largest number in the list is:\", second_largest)\n"
   ]
  },
  {
   "cell_type": "code",
   "execution_count": null,
   "id": "1639e747",
   "metadata": {},
   "outputs": [],
   "source": [
    "#Write a Python program to print even numbers in a list?\n"
   ]
  }
 ],
 "metadata": {
  "kernelspec": {
   "display_name": "Python 3 (ipykernel)",
   "language": "python",
   "name": "python3"
  },
  "language_info": {
   "codemirror_mode": {
    "name": "ipython",
    "version": 3
   },
   "file_extension": ".py",
   "mimetype": "text/x-python",
   "name": "python",
   "nbconvert_exporter": "python",
   "pygments_lexer": "ipython3",
   "version": "3.9.13"
  }
 },
 "nbformat": 4,
 "nbformat_minor": 5
}
