{
 "cells": [
  {
   "cell_type": "code",
   "execution_count": null,
   "id": "6d2d1889",
   "metadata": {},
   "outputs": [],
   "source": [
    "What is the relationship between def statements and lambda expressions ?\n",
    "def Statements:\n",
    "The def statement is used to define a named function in Python.\n",
    "It starts with the keyword def, followed by the function name and a set of parentheses that can contain any parameters the function takes.\n",
    "The function body is defined using indentation and can consist of multiple lines of code.\n",
    "A def statement allows you to create reusable and structured code blocks, and you can call the function by its name later in your code.\n",
    "\n",
    "Lambda Expressions:\n",
    "Lambda expressions, also known as anonymous functions, are a way to create small, one-line functions without explicitly defining a named function.\n",
    "They are defined using the lambda keyword, followed by a set of parameters and a colon, and then the expression to be evaluated.\n",
    "Lambda expressions are typically used when you need a simple function without the need for a named function definition."
   ]
  },
  {
   "cell_type": "code",
   "execution_count": null,
   "id": "6c9a5242",
   "metadata": {},
   "outputs": [],
   "source": [
    "What is the benefit of lambda?\n",
    "Lambda expressions allow you to define functions in a compact and concise manner. They are typically expressed in a single line of code, which can make your code more readable and reduce unnecessary boilerplate."
   ]
  },
  {
   "cell_type": "code",
   "execution_count": null,
   "id": "5973e28c",
   "metadata": {},
   "outputs": [],
   "source": [
    "Compare and contrast map, filter, and reduce.\n",
    "map():\n",
    "The map() function applies a given function to each element of an iterable and returns an iterator of the results.\n",
    "It takes two arguments: the function to apply and the iterable on which to apply the function.\n",
    "The function provided to map() is applied to each element of the iterable, and the results are collected in a new iterator.\n",
    "\n",
    "filter():\n",
    "The filter() function creates an iterator from elements of an iterable for which a given function returns True.\n",
    "It takes two arguments: the function that acts as the filter and the iterable to filter.\n",
    "The function provided to filter() is applied to each element of the iterable, and only the elements for which the function returns True are included in the resulting iterator.\n",
    "\n",
    "reduce():\n",
    "The reduce() function applies a given binary function to the elements of an iterable in a cumulative way, reducing them to a single value.\n",
    "It requires the functools module to be imported: from functools import reduce.\n",
    "The function provided to reduce() should take two arguments and perform a binary operation."
   ]
  },
  {
   "cell_type": "code",
   "execution_count": null,
   "id": "0f96c11b",
   "metadata": {},
   "outputs": [],
   "source": [
    "What are function annotations, and how are they used?\n",
    "\n",
    "Function annotations, introduced in Python 3.x, are a way to add metadata or additional information to the parameters and return values of a function. They allow you to specify the expected types of the functions arguments and the type of the value it returns. Function annotations are optional and do not affect the actual execution of the function, but they provide useful information for documentation, static type checkers.\n",
    "\n",
    "ex.def greet(name: str, age: int) -> str:\n",
    "   \n",
    "    greeting = f\"Hello, {name}! You are {age} years old.\"\n",
    "    return greeting\n"
   ]
  },
  {
   "cell_type": "code",
   "execution_count": null,
   "id": "b7a9bec1",
   "metadata": {},
   "outputs": [],
   "source": [
    "What are recursive functions, and how are they used?\n",
    "Recursive functions are functions that call themselves within their own definition. They are a programming technique in which a problem is divided into smaller, similar subproblems, and the function is called recursively to solve each subproblem until a base case is reached.\n",
    "Problems such as calculating factorials, Fibonacci sequences, exponentiation, and recursive mathematical formulas can be efficiently solved using recursive functions."
   ]
  },
  {
   "cell_type": "code",
   "execution_count": null,
   "id": "e62f04f6",
   "metadata": {},
   "outputs": [],
   "source": [
    "What are some general design guidelines for coding functions?\n",
    "\n",
    "When it comes to coding functions, there are several general design guidelines that can help improve the clarity, maintainability, and reusability of your code.\n"
   ]
  },
  {
   "cell_type": "code",
   "execution_count": null,
   "id": "ad296c60",
   "metadata": {},
   "outputs": [],
   "source": [
    "Name three or more ways that functions can communicate results to a caller.\n",
    "Return Values:\n",
    "Functions can return values to the caller using the return statement. The returned value can be of any data type, including built-in types, custom objects, or even collections like lists or dictionaries. The caller can capture the return value and use it for further processing or store it in a variable.\n",
    "\n",
    "Modifying Mutable Objects:\n",
    "Functions can modify mutable objects (e.g., lists, dictionaries) that are passed as arguments. These modifications can be visible to the caller since mutable objects are passed by reference. By modifying the object directly within the function, the changes can be accessed by the caller after the function call.\n",
    "\n",
    "Global Variables:\n",
    "Functions can access and modify global variables. Global variables are defined outside of any specific function and can be accessed from any part of the program. By modifying global variables within a function, the updated values can be accessed by the caller after the function call. However, using global variables should be done with caution to avoid potential side effects and code readability issues."
   ]
  },
  {
   "cell_type": "code",
   "execution_count": null,
   "id": "cd78dd55",
   "metadata": {},
   "outputs": [],
   "source": []
  }
 ],
 "metadata": {
  "kernelspec": {
   "display_name": "Python 3 (ipykernel)",
   "language": "python",
   "name": "python3"
  },
  "language_info": {
   "codemirror_mode": {
    "name": "ipython",
    "version": 3
   },
   "file_extension": ".py",
   "mimetype": "text/x-python",
   "name": "python",
   "nbconvert_exporter": "python",
   "pygments_lexer": "ipython3",
   "version": "3.9.13"
  }
 },
 "nbformat": 4,
 "nbformat_minor": 5
}
