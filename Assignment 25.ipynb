{
 "cells": [
  {
   "cell_type": "code",
   "execution_count": 2,
   "id": "4aed4479",
   "metadata": {},
   "outputs": [
    {
     "data": {
      "text/plain": [
       "[0, 1, 2, 3, 4, 5, 6, 7, 8, 9]"
      ]
     },
     "execution_count": 2,
     "metadata": {},
     "output_type": "execute_result"
    }
   ],
   "source": [
    "What is the difference between enclosing a list comprehension in square brackets and parentheses?\n",
    "\n",
    "Square brackets ([]): When you enclose a list comprehension in square brackets, it creates a new list. The list comprehension is used to generate the elements of the list based on the given expression and any accompanying conditions.\n",
    "    \n",
    "Parentheses (()): When you enclose a list comprehension in parentheses, it creates a generator object. A generator is an iterable object that generates values on the fly, as they are needed, instead of creating the entire list upfront."
   ]
  },
  {
   "cell_type": "code",
   "execution_count": null,
   "id": "9a88eb6a",
   "metadata": {},
   "outputs": [],
   "source": [
    "What is the relationship between generators and iterators?\n",
    "Iterators provide a way to access elements of a collection sequentially, one at a time, without the need to store the entire collection in memory. They are commonly used in for loops to iterate over elements of a container or to process data lazily.\n",
    "\n",
    "Generators, on the other hand, are a convenient way to create iterators. They are defined using a special syntax that combines the simplicity of writing a function with the behavior of an iterator. When a generator function is called, it returns a generator object, which is both an iterator and an iterable."
   ]
  },
  {
   "cell_type": "code",
   "execution_count": null,
   "id": "c0bfce96",
   "metadata": {},
   "outputs": [],
   "source": [
    "What are the signs that a function is a generator function?\n",
    "\n",
    "Use of the yield statement instead of return: In regular functions, the return statement is used to terminate the function and return a value. However, in generator functions, yield is used to temporarily suspend the functions execution and yield a value to the caller. The function can be resumed later, allowing it to produce a sequence of values."
   ]
  },
  {
   "cell_type": "code",
   "execution_count": null,
   "id": "9dec332a",
   "metadata": {},
   "outputs": [],
   "source": [
    "What is the purpose of a yield statement?\n",
    "The yield statement in Python is used in generator functions to temporarily pause the function's execution and provide a value to the caller. It allows generator functions to produce a sequence of values one at a time. The function's state is saved, so it can be resumed later to generate the next value in the sequence. This helps in conserving memory and allows for efficient generation of values on-the-fly."
   ]
  },
  {
   "cell_type": "code",
   "execution_count": null,
   "id": "c6a5035e",
   "metadata": {},
   "outputs": [],
   "source": [
    "What is the relationship between map calls and list comprehensions? Make a comparison and contrast between the two.\n",
    "Comparison:\n",
    "Purpose: Both map calls and list comprehensions are used to apply a given function to each element of an iterable and collect the results. They allow for concise and efficient transformations of data.\n",
    "Readability: List comprehensions are generally considered more readable and expressive compared to map calls. They have a more compact and intuitive syntax that directly represents the transformation being performed.\n",
    "\n",
    "    \n",
    "Contrast:\n",
    "Syntax: The syntax for map calls involves passing a function and an iterable to the map() function, whereas list comprehensions have a more self-contained syntax that combines the expression and the iteration.\n",
    "Functionality: Map calls are primarily used to apply a function to each element of an iterable, without the ability to include conditional logic or multiple operations. List comprehensions, on the other hand, offer more flexibility by allowing the inclusion of conditions and multiple expressions.\n",
    "    "
   ]
  }
 ],
 "metadata": {
  "kernelspec": {
   "display_name": "Python 3 (ipykernel)",
   "language": "python",
   "name": "python3"
  },
  "language_info": {
   "codemirror_mode": {
    "name": "ipython",
    "version": 3
   },
   "file_extension": ".py",
   "mimetype": "text/x-python",
   "name": "python",
   "nbconvert_exporter": "python",
   "pygments_lexer": "ipython3",
   "version": "3.9.13"
  }
 },
 "nbformat": 4,
 "nbformat_minor": 5
}
