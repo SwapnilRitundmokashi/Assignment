{
 "cells": [
  {
   "cell_type": "code",
   "execution_count": null,
   "id": "91c6cb90",
   "metadata": {},
   "outputs": [],
   "source": [
    "What does an empty dictionary&#39;s code look like?\n",
    "\n",
    "my_dict = {}\n"
   ]
  },
  {
   "cell_type": "code",
   "execution_count": 1,
   "id": "d360f449",
   "metadata": {},
   "outputs": [
    {
     "name": "stdout",
     "output_type": "stream",
     "text": [
      "42\n"
     ]
    }
   ],
   "source": [
    "#What is the value of a dictionary value with the key &#39;foo&#39; and the value 42?\n",
    "\n",
    "my_dict = {'foo': 42}\n",
    "value = my_dict['foo']\n",
    "print(value)  "
   ]
  },
  {
   "cell_type": "code",
   "execution_count": null,
   "id": "25aba3b7",
   "metadata": {},
   "outputs": [],
   "source": [
    "What is the most significant distinction between a dictionary and a list?\n",
    "\n",
    "List: A list is an ordered collection of elements that can be of any data type. The elements are stored in a specific order, and each element is assigned an index starting from 0. Lists are defined using square brackets [].\n",
    "\n",
    "Dictionary: A dictionary is an unordered collection of key-value pairs. It stores data as key-value pairs, where each key is unique within the dictionary. Keys are used to access their corresponding values. Dictionaries are defined using curly braces {}."
   ]
  },
  {
   "cell_type": "code",
   "execution_count": null,
   "id": "933ce6dd",
   "metadata": {},
   "outputs": [],
   "source": [
    "What happens if you try to access spam[&#39;foo&#39;] if spam is {&#39;bar&#39;: 100}?\n",
    "                                       \n",
    " If you try to access spam['foo'] and spam is {'bar': 100}, you will encounter a KeyError because the key 'foo' does not exist in the dictionary spam.                                      "
   ]
  },
  {
   "cell_type": "code",
   "execution_count": null,
   "id": "e8b700b4",
   "metadata": {},
   "outputs": [],
   "source": [
    "If a dictionary is stored in spam, what is the difference between the expressions &#39;cat&#39; in spam and &#39;cat&#39; in spam.keys()?\n",
    "\n",
    "'cat' in spam:\n",
    "This expression checks whether the key 'cat' exists in the dictionary spam. It returns a Boolean value True if the key is present, indicating that 'cat' is a valid key in the dictionary. If the key is not present, it returns False.\n",
    "\n",
    "'cat' in spam.keys():\n",
    "This expression checks whether the key 'cat' exists in the list of keys obtained from the keys() method of the dictionary spam. The keys() method returns a view object that provides a dynamic view of the dictionarys keys. The expression returns a Boolean value True if the key is present in the list of keys, indicating that 'cat' is a valid key in the dictionary. If the key is not present in the list of keys, it returns False."
   ]
  },
  {
   "cell_type": "code",
   "execution_count": null,
   "id": "3591ad30",
   "metadata": {},
   "outputs": [],
   "source": [
    "If a dictionary is stored in spam, what is the difference between the expressions &#39;cat&#39; in spam and\n",
    "&#39;cat&#39; in spam.values()?\\\n",
    "\n",
    "'cat' in spam:\n",
    "This expression checks whether the key 'cat' exists in the dictionary spam. It returns a Boolean value True if the key is present, indicating that 'cat' is a valid key in the dictionary. If the key is not present, it returns False.\n",
    "\n",
    "'cat' in spam.values():\n",
    "This expression checks whether the value 'cat' exists in the collection of values obtained from the values() method of the dictionary spam. The values() method returns a view object that provides a dynamic view of the dictionarys values. The expression returns a Boolean value True if the value is present in the collection of values, indicating that 'cat' is a valid value in the dictionary. If the value is not present in the collection of values, it returns False."
   ]
  },
  {
   "cell_type": "code",
   "execution_count": null,
   "id": "a2f2542e",
   "metadata": {},
   "outputs": [],
   "source": [
    "What is a shortcut for the following code?\n",
    "if &#39;color&#39; not in spam:\n",
    "spam[&#39;color&#39;] = &#39;black&#39;\n",
    "     \n",
    "     \n",
    "spam.setdefault('color', 'black')\n"
   ]
  },
  {
   "cell_type": "code",
   "execution_count": 2,
   "id": "4912c5ca",
   "metadata": {},
   "outputs": [
    {
     "name": "stdout",
     "output_type": "stream",
     "text": [
      "{'age': 25, 'city': 'London', 'name': 'Alice'}\n"
     ]
    }
   ],
   "source": [
    "How do you &quot;pretty print&quot; dictionary values using which module and function?\n",
    "\n",
    "import pprint\n",
    "\n",
    "my_dict = {'name': 'Alice', 'age': 25, 'city': 'London'}\n",
    "\n",
    "pprint.pprint(my_dict)\n"
   ]
  },
  {
   "cell_type": "code",
   "execution_count": null,
   "id": "d51debfd",
   "metadata": {},
   "outputs": [],
   "source": []
  }
 ],
 "metadata": {
  "kernelspec": {
   "display_name": "Python 3 (ipykernel)",
   "language": "python",
   "name": "python3"
  },
  "language_info": {
   "codemirror_mode": {
    "name": "ipython",
    "version": 3
   },
   "file_extension": ".py",
   "mimetype": "text/x-python",
   "name": "python",
   "nbconvert_exporter": "python",
   "pygments_lexer": "ipython3",
   "version": "3.9.13"
  }
 },
 "nbformat": 4,
 "nbformat_minor": 5
}
