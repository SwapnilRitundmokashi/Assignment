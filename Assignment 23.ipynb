{
 "cells": [
  {
   "cell_type": "code",
   "execution_count": null,
   "id": "06022a2b",
   "metadata": {},
   "outputs": [],
   "source": [
    "What is the result of the code, and why?\n",
    ">>> def func(a, b=6, c=8):\n",
    "print(a, b, c)\n",
    ">>> func(1, 2)\n",
    "\n",
    "output-1 2 8\n",
    "In the function definition func(a, b=6, c=8), a is a positional argument, while b and c are keyword arguments with default values of 6 and 8, respectively.\n",
    "\n",
    "When the function is called with func(1, 2), the value 1 is passed as the positional argument for a, and 2 is passed as the value for the keyword argument b. Since the keyword argument c is not provided, it takes its default value of 8"
   ]
  },
  {
   "cell_type": "code",
   "execution_count": null,
   "id": "c8566075",
   "metadata": {},
   "outputs": [],
   "source": [
    "What is the result of this code, and why?\n",
    ">>> def func(a, b, c=5):\n",
    "print(a, b, c)\n",
    ">>> func(1, c=3, b=2)\n",
    "\n",
    "output 1 2 3\n",
    "In the function definition func(a, b, c=5), a and b are positional arguments, and c is a keyword argument with a default value of 5.\n",
    "\n",
    "When the function is called with func(1, c=3, b=2), the value 1 is passed as the first positional argument for a, 2 is passed as the keyword argument for b, and 3 is passed as the keyword argument for c.\n",
    "\n"
   ]
  },
  {
   "cell_type": "code",
   "execution_count": null,
   "id": "0f87a1a9",
   "metadata": {},
   "outputs": [],
   "source": [
    "How about this code: what is its result, and why?\n",
    ">>> def func(a, *pargs):\n",
    "print(a, pargs)\n",
    ">>> func(1, 2, 3)\n",
    "\n",
    "output 1 (2, 3)\n",
    "In the function definition func(a, *pargs), a is a positional argument, and *pargs is a parameter that allows for variable-length positional arguments.\n",
    "\n",
    "When the function is called with func(1, 2, 3), the value 1 is passed as the positional argument for a, and 2 and 3 are additional positional arguments."
   ]
  },
  {
   "cell_type": "code",
   "execution_count": null,
   "id": "bbf96869",
   "metadata": {},
   "outputs": [],
   "source": [
    "What does this code print, and why?\n",
    ">>> def func(a, **kargs):\n",
    "print(a, kargs)\n",
    ">>> func(a=1, c=3, b=2)\n",
    "\n",
    "output 1 {'c': 3, 'b': 2}\n",
    "In the function definition func(a, **kargs), a is a positional argument, and **kargs is a parameter that allows for variable-length keyword arguments.\n",
    "\n",
    "When the function is called with func(a=1, c=3, b=2), the value 1 is passed as a keyword argument for a, while c=3 and b=2 are additional keyword arguments."
   ]
  },
  {
   "cell_type": "code",
   "execution_count": null,
   "id": "fc03d4e2",
   "metadata": {},
   "outputs": [],
   "source": [
    "What gets printed by this, and explain?\n",
    ">>> def func(a, b, c=8, d=5):\n",
    "         print(a, b, c, d)\n",
    ">>> func(1, *(5, 6))\n",
    "\n",
    "output 1,5,6,5\n",
    "When the function is called with func(1, *(5, 6)), the value 1 is passed as the first positional argument for a, and (5, 6) is unpacked using the * operator and passed as additional positional arguments for b.\n",
    "\n",
    "Therefore, b will receive 5 as its value, and 6 will be assigned to the next available parameter, which is c in this case."
   ]
  },
  {
   "cell_type": "code",
   "execution_count": null,
   "id": "3fca2091",
   "metadata": {},
   "outputs": [],
   "source": [
    "what is the result of this, and explain?\n",
    ">>> def func(a, b, c): \n",
    "    a = 2;\n",
    "    b[0] = 'x';\n",
    "    c['a'] = 'y'\n",
    ">>> l=1; m=[1]; n={'a':0}\n",
    "\n",
    "Output -Their is no calling of fuction func,so their is no output."
   ]
  }
 ],
 "metadata": {
  "kernelspec": {
   "display_name": "Python 3 (ipykernel)",
   "language": "python",
   "name": "python3"
  },
  "language_info": {
   "codemirror_mode": {
    "name": "ipython",
    "version": 3
   },
   "file_extension": ".py",
   "mimetype": "text/x-python",
   "name": "python",
   "nbconvert_exporter": "python",
   "pygments_lexer": "ipython3",
   "version": "3.9.13"
  }
 },
 "nbformat": 4,
 "nbformat_minor": 5
}
