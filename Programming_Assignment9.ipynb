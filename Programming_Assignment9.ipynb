{
 "cells": [
  {
   "cell_type": "code",
   "execution_count": 1,
   "id": "eff9394d",
   "metadata": {},
   "outputs": [
    {
     "name": "stdout",
     "output_type": "stream",
     "text": [
      "Enter a number: 89\n",
      "89 is a Disarium number.\n"
     ]
    }
   ],
   "source": [
    "#Write a Python program to check if the given number is a Disarium Number?\n",
    "number = int(input(\"Enter a number: \"))\n",
    "num_str = str(number)\n",
    "length = len(num_str)\n",
    "sum_digits = 0\n",
    "\n",
    "for i in range(length):\n",
    "    digit = int(num_str[i])\n",
    "    sum_digits += digit ** (i+1)\n",
    "\n",
    "if sum_digits == number:\n",
    "    print(number, \"is a Disarium number.\")\n",
    "else:\n",
    "    print(number, \"is not a Disarium number.\")"
   ]
  },
  {
   "cell_type": "code",
   "execution_count": 28,
   "id": "3ebbb4d8",
   "metadata": {},
   "outputs": [
    {
     "name": "stdout",
     "output_type": "stream",
     "text": [
      "Disarium numbers between 1 and 100:\n",
      "1\n",
      "2\n",
      "3\n",
      "4\n",
      "5\n",
      "6\n",
      "7\n",
      "8\n",
      "9\n",
      "89\n"
     ]
    }
   ],
   "source": [
    "#Write a Python program to print all disarium numbers between 1 to 100?\n",
    "def disarium(number):\n",
    "    num_str = str(number)\n",
    "    length = len(num_str)\n",
    "    sum_digits = 0\n",
    "\n",
    "    for i in range(length):\n",
    "        digit = int(num_str[i])\n",
    "        sum_digits += digit ** (i+1)\n",
    "\n",
    "    return sum_digits == number\n",
    "print(\"Disarium numbers between 1 and 100:\")\n",
    "for i in range(1, 101):\n",
    "    if disarium(i):\n",
    "        print(i)\n"
   ]
  },
  {
   "cell_type": "code",
   "execution_count": 31,
   "id": "af9f2a57",
   "metadata": {},
   "outputs": [
    {
     "name": "stdout",
     "output_type": "stream",
     "text": [
      "Enter a number: 19\n",
      "19 is a Happy Number.\n"
     ]
    }
   ],
   "source": [
    "#Write a Python program to check if the given number is Happy Number?\n",
    "def is_happy_number(number):\n",
    "    seen_numbers = set()\n",
    "\n",
    "    while True:\n",
    "        square_sum = 0\n",
    "        while number > 0:\n",
    "            digit = number % 10\n",
    "            square_sum += digit * digit\n",
    "            number //= 10\n",
    "\n",
    "        if square_sum == 1:\n",
    "            return True\n",
    "        elif square_sum in seen_numbers:\n",
    "            return False\n",
    "        else:\n",
    "            number = square_sum\n",
    "            seen_numbers.add(square_sum)\n",
    "\n",
    "number = int(input(\"Enter a number: \"))\n",
    "\n",
    "if is_happy_number(number):\n",
    "    print(number, \"is a Happy Number.\")\n",
    "else:\n",
    "    print(number, \"is not a Happy Number.\")\n"
   ]
  },
  {
   "cell_type": "code",
   "execution_count": 33,
   "id": "df027433",
   "metadata": {},
   "outputs": [
    {
     "name": "stdout",
     "output_type": "stream",
     "text": [
      "1\n",
      "7\n",
      "10\n",
      "13\n",
      "19\n",
      "23\n",
      "28\n",
      "31\n",
      "32\n",
      "44\n",
      "49\n",
      "68\n",
      "70\n",
      "79\n",
      "82\n",
      "86\n",
      "91\n",
      "94\n",
      "97\n",
      "100\n"
     ]
    }
   ],
   "source": [
    "#Write a Python program to print all happy numbers between 1 and 100?\n",
    "def is_happy_number(number):\n",
    "    seen_numbers = set()\n",
    "\n",
    "    while True:\n",
    "        square_sum = 0\n",
    "        while number > 0:\n",
    "            digit = number % 10\n",
    "            square_sum += digit * digit\n",
    "            number //= 10\n",
    "\n",
    "        if square_sum == 1:\n",
    "            return True\n",
    "        elif square_sum in seen_numbers:\n",
    "            return False\n",
    "        else:\n",
    "            number = square_sum\n",
    "            seen_numbers.add(square_sum)\n",
    "for i in range(101):\n",
    "    if is_happy_number(i):\n",
    "        print(i)\n"
   ]
  },
  {
   "cell_type": "code",
   "execution_count": 34,
   "id": "119f5e28",
   "metadata": {},
   "outputs": [
    {
     "name": "stdout",
     "output_type": "stream",
     "text": [
      "Enter a number: 55\n",
      "55 is not a Harshad Number.\n"
     ]
    }
   ],
   "source": [
    "#Write a Python program to determine whether the given number is a Harshad Number?\n",
    "def is_harshad_number(number):\n",
    "    sum_digits = sum(int(digit) for digit in str(number))\n",
    "    return number % sum_digits == 0\n",
    "number = int(input(\"Enter a number: \"))\n",
    "\n",
    "if is_harshad_number(number):\n",
    "    print(number, \"is a Harshad Number.\")\n",
    "else:\n",
    "    print(number, \"is not a Harshad Number.\")\n"
   ]
  },
  {
   "cell_type": "code",
   "execution_count": 35,
   "id": "b1335065",
   "metadata": {},
   "outputs": [
    {
     "name": "stdout",
     "output_type": "stream",
     "text": [
      "Pronic numbers between 1 and 100:\n",
      "2\n",
      "6\n",
      "12\n",
      "20\n",
      "30\n",
      "42\n",
      "56\n",
      "72\n",
      "90\n"
     ]
    }
   ],
   "source": [
    "#Write a Python program to print all pronic numbers between 1 and 100?\n",
    "def is_pronic_number(number):\n",
    "    for i in range(1, int(number**0.5)+1):\n",
    "        if i * (i + 1) == number:\n",
    "            return True\n",
    "    return False\n",
    "print(\"Pronic numbers between 1 and 100:\")\n",
    "for i in range(1, 101):\n",
    "    if is_pronic_number(i):\n",
    "        print(i)\n"
   ]
  },
  {
   "cell_type": "code",
   "execution_count": null,
   "id": "a3e69e24",
   "metadata": {},
   "outputs": [],
   "source": []
  }
 ],
 "metadata": {
  "kernelspec": {
   "display_name": "Python 3 (ipykernel)",
   "language": "python",
   "name": "python3"
  },
  "language_info": {
   "codemirror_mode": {
    "name": "ipython",
    "version": 3
   },
   "file_extension": ".py",
   "mimetype": "text/x-python",
   "name": "python",
   "nbconvert_exporter": "python",
   "pygments_lexer": "ipython3",
   "version": "3.9.13"
  }
 },
 "nbformat": 4,
 "nbformat_minor": 5
}
