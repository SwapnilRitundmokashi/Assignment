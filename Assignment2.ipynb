{
 "cells": [
  {
   "cell_type": "code",
   "execution_count": null,
   "id": "a67c89dc",
   "metadata": {},
   "outputs": [],
   "source": [
    "#1.What are the two values of the Boolean data type? How do you write them?\n",
    "In Python, the two values of the Boolean data type are written as:\n",
    "\n",
    "True : Represents the logical value of true. It is written as the keyword True.\n",
    "False : Represents the logical value of false. It is written as the keyword False.\n",
    "    "
   ]
  },
  {
   "cell_type": "code",
   "execution_count": null,
   "id": "8b05487e",
   "metadata": {},
   "outputs": [],
   "source": [
    "#What are the three different types of Boolean operators?\n",
    "Logical AND (and):\n",
    "The logical AND operator returns True if both operands are True, and False otherwise. \n",
    "It is represented by the keyword and. \n",
    "\n",
    "Logical OR (or):\n",
    "The logical OR operator returns True if at least one of the operands is True, and False otherwise.\n",
    "It is represented by the keyword or. \n",
    "\n",
    "Logical NOT (not):\n",
    "The logical NOT operator is a unary operator that negates the value of its operand. \n",
    "It returns True if the operand is False, and False if the operand is True. It is represented by the keyword not."
   ]
  },
  {
   "cell_type": "code",
   "execution_count": null,
   "id": "7a4fe27e",
   "metadata": {},
   "outputs": [],
   "source": [
    "#Make a list of each Boolean operator&#39;s truth tables (i.e. every possible combination of Booleanvalues for the operator and what it evaluate ).\n",
    "\n",
    "Logical AND (and):\n",
    "| Operand 1 | Operand 2 | Result |\n",
    "|-----------|-----------|--------|\n",
    "| True      | True      | True   |\n",
    "| True      | False     | False  |\n",
    "| False     | True      | False  |\n",
    "| False     | False     | False  |\n",
    "\n",
    "Logical OR (or):\n",
    "| Operand 1 | Operand 2 | Result |\n",
    "|-----------|-----------|--------|\n",
    "| True      | True      | True   |\n",
    "| True      | False     | True   |\n",
    "| False     | True      | True   |\n",
    "| False     | False     | False  |\n",
    "\n",
    "\n",
    "Logical NOT (not):\n",
    "\n",
    "| Operand | Result |\n",
    "|---------|--------|\n",
    "| True    | False  |\n",
    "| False   | True   |\n",
    "\n",
    "\n",
    "Equality (==):\n",
    "\n",
    "| Operand 1 | Operand 2 | Result |\n",
    "|-----------|-----------|--------|\n",
    "| True      | True      | True   |\n",
    "| True      | False     | False  |\n",
    "| False     | True      | False  |\n",
    "| False     | False     | True   |\n",
    "\n"
   ]
  },
  {
   "cell_type": "code",
   "execution_count": null,
   "id": "cedf3b44",
   "metadata": {},
   "outputs": [],
   "source": [
    "#What are the values of the following expressions?\n",
    "(5 > 4) and (3 == 5) ----> False \n",
    "not (5 > 4)----> False\n",
    "(5 > 4) or (3 == 5)----> True\n",
    "not ((5 > 4) or (3 == 5))----> False\n",
    "(True and True) and (True == False)----> False\n",
    "(not False) or (not True)----> True"
   ]
  },
  {
   "cell_type": "code",
   "execution_count": null,
   "id": "1a48f398",
   "metadata": {},
   "outputs": [],
   "source": [
    "#What are the six comparison operators?\n",
    "1.Equality (==):\n",
    "The equality operator (==) compares two operands and returns True if they are equal,\n",
    "and False otherwise. It checks for equality between the values of the operands.\n",
    "\n",
    "2.Inequality (!=):\n",
    "The inequality operator (!=) compares two operands and returns True if they are not equal,\n",
    "and False if they are equal. It checks for inequality between the values of the operands.\n",
    "3.Greater than (>):\n",
    "The greater than operator (>) compares two operands and returns True if the first operand \n",
    "is greater than the second operand, and False otherwise.\n",
    "4.Less than (<):\n",
    "The less than operator (<) compares two operands and returns True if the first operand \n",
    "is less than the second operand, and False otherwise.\n",
    "5.Greater than or equal to (>=):\n",
    "The greater than or equal to operator (>=) compares two operands and returns True if \n",
    "the first operand is greater than or equal to the second operand, and False otherwise.\n",
    "6.Less than or equal to (<=):\n",
    "The less than or equal to operator (<=) compares two operands and returns True if\n",
    "the first operand is less than or equal to the second operand, and False otherwise."
   ]
  },
  {
   "cell_type": "code",
   "execution_count": null,
   "id": "e3ae66ea",
   "metadata": {},
   "outputs": [],
   "source": [
    "#How do you tell the difference between the equal to and assignment operators?Describe a condition and when you would use one.\n",
    "The equal to operator (==) is a comparison operator used to check if two values are equal.\n",
    "It evaluates the equality between two operands and returns True if they are equal, and False otherwise. \n",
    "It is typically used in conditional statements or expressions to make decisions based on the equality of values.\n",
    "\n",
    "On the other hand, the assignment operator (=) is used to assign a value to a variable. \n",
    "It takes the value on the right-hand side and assigns it to the variable on the left-hand side.\n",
    "It does not perform a comparison. "
   ]
  },
  {
   "cell_type": "code",
   "execution_count": null,
   "id": "afd8ed2f",
   "metadata": {},
   "outputs": [],
   "source": [
    "#Identify the three blocks in this code:\n",
    "spam = 0\n",
    "if spam == 10:\n",
    "    print('eggs')\n",
    "if spam > 5:\n",
    "    print('bacon')\n",
    "else:\n",
    "    print('ham')\n",
    "    print('spam')\n",
    "    print('spam')\n",
    "    \n",
    "    \n",
    "output---> ham\n",
    "           spam\n",
    "           spam"
   ]
  },
  {
   "cell_type": "code",
   "execution_count": null,
   "id": "00fea5c8",
   "metadata": {},
   "outputs": [],
   "source": [
    "#Write code that prints Hello if 1 is stored in spam, prints Howdy if 2 is stored in spam, and prints Greetings! if anything else is stored in spam.\n",
    "\n",
    "if spam == 1:\n",
    "    print(\"Hello\")\n",
    "elif spam == 2:\n",
    "    print(\"Howdy\")\n",
    "else:\n",
    "    print(\"Greetings!\")\n"
   ]
  },
  {
   "cell_type": "code",
   "execution_count": null,
   "id": "2170d358",
   "metadata": {},
   "outputs": [],
   "source": [
    "#If your programme is stuck in an endless loop, what keys you’ll press?\n",
    "\n",
    " Press Ctrl + C on your keyboard.\n",
    "    "
   ]
  },
  {
   "cell_type": "code",
   "execution_count": null,
   "id": "74407cf6",
   "metadata": {},
   "outputs": [],
   "source": [
    "#How can you tell the difference between break and continue?\n",
    "break statement:\n",
    "\n",
    "When encountered within a loop, the break statement terminates the loop prematurely.\n",
    "\n",
    "continue statement:\n",
    "\n",
    "When encountered within a loop, the continue statement skips\n",
    "the rest of the current iteration and proceeds to the next iteration."
   ]
  },
  {
   "cell_type": "code",
   "execution_count": null,
   "id": "f2e10c8a",
   "metadata": {},
   "outputs": [],
   "source": [
    "#In a for loop, what is the difference between range(10), range(0, 10), and range(0, 10, 1)?\n",
    "range(10):\n",
    "This expression generates a sequence of numbers starting from 0 (default start value)\n",
    "up to 10 (exclusive) with a step size of 1 (default step size).\n",
    "The start value and step size are optional arguments in the range() function. \n",
    "If not specified, they default to 0 for the start value and 1 for the step size.\n",
    "Therefore, range(10) is equivalent to range(0, 10) and range(0, 10, 1).\n",
    "\n",
    "range(0, 10):\n",
    "This expression explicitly specifies the start value as 0 and the end value as 10 (exclusive), with a step size of 1.\n",
    "It generates a sequence of numbers from 0 to 9.\n",
    "\n",
    "range(0, 10, 1):\n",
    "This expression explicitly specifies the start value as 0, the end value as 10 (exclusive), and the step size as 1.\n",
    "It generates a sequence of numbers from 0 to 9.\n",
    "\n",
    "However, their outputs and behavior are equivalent."
   ]
  },
  {
   "cell_type": "code",
   "execution_count": null,
   "id": "620209f6",
   "metadata": {},
   "outputs": [],
   "source": [
    "#Write a short program that prints the numbers 1 to 10 using a for loop. Then write an equivalent program that prints the numbers 1 to 10 using a while loop.\n",
    "\n",
    "# Using a for loop\n",
    "for num in range(1, 11):\n",
    "    print(num)\n",
    "    \n",
    "# Using a while loop\n",
    "num = 1\n",
    "while num <= 10:\n",
    "    print(num)\n",
    "    num += 1"
   ]
  },
  {
   "cell_type": "code",
   "execution_count": null,
   "id": "936ae56f",
   "metadata": {},
   "outputs": [],
   "source": [
    "#If you had a function named bacon() inside a module named spam, how would you call it after importing spam?\n",
    "\n",
    "import spam\n",
    "\n",
    "spam.bacon()"
   ]
  }
 ],
 "metadata": {
  "kernelspec": {
   "display_name": "Python 3 (ipykernel)",
   "language": "python",
   "name": "python3"
  },
  "language_info": {
   "codemirror_mode": {
    "name": "ipython",
    "version": 3
   },
   "file_extension": ".py",
   "mimetype": "text/x-python",
   "name": "python",
   "nbconvert_exporter": "python",
   "pygments_lexer": "ipython3",
   "version": "3.9.13"
  }
 },
 "nbformat": 4,
 "nbformat_minor": 5
}
