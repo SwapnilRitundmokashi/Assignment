{
 "cells": [
  {
   "cell_type": "code",
   "execution_count": null,
   "id": "b340db4a",
   "metadata": {},
   "outputs": [],
   "source": [
    "How do you distinguish between shutil.copy() and shutil.copytree()?\n",
    "The shutil.copy() function is used to copy a single file from a source location to a destination location.\n",
    "It requires two arguments: the source file path and the destination file path.\n",
    "    \n",
    "The shutil.copytree() function is used to recursively copy an entire directory tree from a source location to a destination location.\n",
    "It requires two arguments: the source directory path and the destination directory path."
   ]
  },
  {
   "cell_type": "code",
   "execution_count": null,
   "id": "020832b5",
   "metadata": {},
   "outputs": [],
   "source": [
    "What function is used to rename files?\n",
    "The shutil.move() function is commonly used in Python to rename files "
   ]
  },
  {
   "cell_type": "code",
   "execution_count": null,
   "id": "610834ba",
   "metadata": {},
   "outputs": [],
   "source": [
    " What is the difference between the delete functions in the send2trash and shutil modules?\n",
    "    The send2trash module provides a function named send2trash() that sends files or directories to the operating system trash or recycle bin instead of permanently deleting them.\n",
    "    \n",
    "    The shutil module provides a function named shutil.rmtree() for recursively deleting a directory and all its contents.\n",
    "It permanently deletes files and directories, bypassing the operating system trash or recycle bin. The deleted files cannot be easily recovered."
   ]
  },
  {
   "cell_type": "code",
   "execution_count": null,
   "id": "ef2db792",
   "metadata": {},
   "outputs": [],
   "source": [
    "ZipFile objects have a close() method just like File objects’ close() method. What ZipFile method is equivalent to File objects’ open() method?\n",
    "\n",
    "To work with a ZIP file, you can create a ZipFile object by calling its constructor and passing the path to the ZIP file as a parameter. This is similar to how you open a file using the open() method, where you pass the file path as an argument."
   ]
  },
  {
   "cell_type": "code",
   "execution_count": null,
   "id": "2e029d1d",
   "metadata": {},
   "outputs": [],
   "source": [
    "Create a programme that searches a folder tree for files with a certain file extension (such as .pdf or .jpg). Copy these files from whatever location they are in to a new folder.\n",
    "\n",
    "import os\n",
    "import shutil\n",
    "\n",
    "def search_and_copy_files(source_folder, target_folder, file_extension):\n",
    "   \n",
    "    if not os.path.exists(target_folder):\n",
    "        os.makedirs(target_folder)\n",
    "\n",
    "   \n",
    "    for root, dirs, files in os.walk(source_folder):\n",
    "        for file in files:\n",
    "            if file.endswith(file_extension):\n",
    "                source_path = os.path.join(root, file)\n",
    "                target_path = os.path.join(target_folder, file)\n",
    "                shutil.copy2(source_path, target_path)\n",
    "                print(f\"Copied: {source_path} to {target_path}\")\n",
    "\n",
    "\n",
    "source_folder = \"path/to/source/folder\"\n",
    "target_folder = \"path/to/target/folder\"\n",
    "file_extension = \".pdf\" \n",
    "\n",
    "\n",
    "search_and_copy_files(source_folder, target_folder, file_extension)\n"
   ]
  },
  {
   "cell_type": "code",
   "execution_count": null,
   "id": "0603707f",
   "metadata": {},
   "outputs": [],
   "source": []
  }
 ],
 "metadata": {
  "kernelspec": {
   "display_name": "Python 3 (ipykernel)",
   "language": "python",
   "name": "python3"
  },
  "language_info": {
   "codemirror_mode": {
    "name": "ipython",
    "version": 3
   },
   "file_extension": ".py",
   "mimetype": "text/x-python",
   "name": "python",
   "nbconvert_exporter": "python",
   "pygments_lexer": "ipython3",
   "version": "3.9.13"
  }
 },
 "nbformat": 4,
 "nbformat_minor": 5
}
